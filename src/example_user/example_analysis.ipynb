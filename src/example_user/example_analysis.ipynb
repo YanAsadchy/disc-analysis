{
 "cells": [
  {
   "cell_type": "markdown",
   "source": [
    "# Setup"
   ],
   "metadata": {
    "collapsed": false,
    "pycharm": {
     "name": "#%% md\n"
    }
   }
  },
  {
   "cell_type": "markdown",
   "source": [
    "The below [autoreload](https://ipython.org/ipython-doc/3/config/extensions/autoreload.html) extension ensures that if any locally imported python files change, the modules defined there are reloaded"
   ],
   "metadata": {
    "collapsed": false,
    "pycharm": {
     "name": "#%% md\n"
    }
   }
  },
  {
   "cell_type": "code",
   "execution_count": 1,
   "outputs": [],
   "source": [
    "%load_ext autoreload\n",
    "%autoreload 2"
   ],
   "metadata": {
    "collapsed": false,
    "pycharm": {
     "name": "#%%\n"
    },
    "ExecuteTime": {
     "end_time": "2023-05-22T11:06:33.443266Z",
     "start_time": "2023-05-22T11:06:33.425443Z"
    }
   }
  },
  {
   "cell_type": "markdown",
   "source": [
    "The below imports [`here`](https://pypi.org/project/pyprojroot/), which allows one to refer to the root directory of the project in a consistent manner across execution environments. It then adds `here()` (the root directory) to the system path to ensure that we can load python modules defined in the project."
   ],
   "metadata": {
    "collapsed": false,
    "pycharm": {
     "name": "#%% md\n"
    }
   }
  },
  {
   "cell_type": "code",
   "execution_count": 2,
   "outputs": [],
   "source": [
    "from hereutil import here, add_to_sys_path\n",
    "add_to_sys_path(here())"
   ],
   "metadata": {
    "collapsed": false,
    "pycharm": {
     "name": "#%%\n"
    },
    "ExecuteTime": {
     "end_time": "2023-05-22T11:06:33.454406Z",
     "start_time": "2023-05-22T11:06:33.443689Z"
    }
   }
  },
  {
   "cell_type": "markdown",
   "source": [
    "Having ensured that the root path of the project is in the system path, we can load common basis functions from [src/common_basis.py](/src/common_basis.py). The template assumes that functions useful for most work be defined in `common_basis.py`, whereas code useful for individual analyses is defined where needed.\n",
    "\n",
    "Naturally, if more refined organisation of common code is needed, one is also free to define whichever other modules one wants.\n",
    "\n",
    "The central object defined in `common_basis` is `con`, which is the [MariaDB](https://mariadb.com/) (MySQL) database connection (an [SQLAlchemy Connection](https://docs.sqlalchemy.org/en/14/core/connections.html)) through which both ready data is accessed, as well as new data stored for others to reuse. Below, you will see both how to use con to store data in the database, as well as how query it.\n",
    "\n",
    "The details of the database connection are stored in [`db_params.yaml`](/db_params.yaml). The password is given separately. **DO NOT INCLUDE THE PASSWORD IN ANY CODE YOU COMMIT TO GITHUB**. If running this notebook, it will ask for the password the first time you run it, and then store it separately in your keyring. This requires a working keyring implementation on your system. Consult the [`keyring`](https://pypi.org/project/keyring/) package documentation if you have problems.  If you cannot get it to work, a second option is to create a `db_secret.yaml` file in the project root directory with `db_pass: [PASSWORD]` as the content. This file is already set to be ignored by Git so it wouldn't accidentally get included in a commit, but still, if you do this, **DON'T MAKE THE MISTAKE OF COMMITTING THE FILE TO GITHUB**.\n"
   ],
   "metadata": {
    "collapsed": false,
    "pycharm": {
     "name": "#%% md\n"
    }
   }
  },
  {
   "cell_type": "code",
   "execution_count": 3,
   "outputs": [],
   "source": [
    "from src.common_basis import *\n",
    "eng, con = get_connection()"
   ],
   "metadata": {
    "collapsed": false,
    "pycharm": {
     "name": "#%%\n"
    },
    "ExecuteTime": {
     "end_time": "2023-05-22T11:06:33.967307Z",
     "start_time": "2023-05-22T11:06:33.454676Z"
    }
   }
  },
  {
   "cell_type": "markdown",
   "source": [
    "# Storing data in the database"
   ],
   "metadata": {
    "collapsed": false,
    "pycharm": {
     "name": "#%% md\n"
    }
   }
  },
  {
   "cell_type": "code",
   "execution_count": 5,
   "outputs": [
    {
     "data": {
      "text/plain": "4"
     },
     "execution_count": 5,
     "metadata": {},
     "output_type": "execute_result"
    }
   ],
   "source": [
    "from sqlalchemy import text\n",
    "import pandas as pd\n",
    "\n",
    "# create some sample data\n",
    "d = pd.DataFrame(data={\n",
    "    'year': [1700, 1710, 1710, 1713],\n",
    "    'type': ['book', 'pamphlet', 'pamphlet', 'pamphlet'],\n",
    "    'genre': ['drama', 'literature', 'science', 'drama']\n",
    "})\n",
    "\n",
    "# this copies the sample data to the database. con is the connection object that is defined in common_basis. Additionally for efficiency reasons, we want the created table to be an Aria table, not an InnoDB table.\n",
    "set_session_storage_engine(con, \"Aria\")\n",
    "d.to_sql(\"test_a\", con, index=False, method=\"multi\", if_exists=\"replace\")\n",
    "\n",
    "# Here, we also create a ColumnStore (https://mariadb.com/kb/en/mariadb-columnstore/) version of the table. ColumnStore tables are very good for large aggregate queries, but support for them is still a bit quirky, so some queries may just not work. They're also slower for queries that mainly seek and return individual full rows of data. Further, it is better not to mix ColumnStore and other tables in queries.\n",
    "set_session_storage_engine(con, \"ColumnStore\")\n",
    "d.to_sql(\"test_c\", con, index=False, method=\"multi\", if_exists=\"replace\")"
   ],
   "metadata": {
    "collapsed": false,
    "pycharm": {
     "name": "#%%\n"
    },
    "ExecuteTime": {
     "end_time": "2023-05-22T11:15:08.706534Z",
     "start_time": "2023-05-22T11:12:41.548014Z"
    }
   }
  },
  {
   "cell_type": "markdown",
   "source": [
    "# Data analysis\n",
    "\n",
    "Transferring complete tables from the database to local pandas dataframes works as follows (don't do this with very large tables):"
   ],
   "metadata": {
    "collapsed": false,
    "pycharm": {
     "name": "#%% md\n"
    }
   }
  },
  {
   "cell_type": "code",
   "execution_count": 27,
   "outputs": [
    {
     "data": {
      "text/plain": "   year      type       genre\n0  1700      book       drama\n1  1710  pamphlet  literature\n2  1710  pamphlet     science\n3  1713  pamphlet       drama",
      "text/html": "<div>\n<style scoped>\n    .dataframe tbody tr th:only-of-type {\n        vertical-align: middle;\n    }\n\n    .dataframe tbody tr th {\n        vertical-align: top;\n    }\n\n    .dataframe thead th {\n        text-align: right;\n    }\n</style>\n<table border=\"1\" class=\"dataframe\">\n  <thead>\n    <tr style=\"text-align: right;\">\n      <th></th>\n      <th>year</th>\n      <th>type</th>\n      <th>genre</th>\n    </tr>\n  </thead>\n  <tbody>\n    <tr>\n      <th>0</th>\n      <td>1700</td>\n      <td>book</td>\n      <td>drama</td>\n    </tr>\n    <tr>\n      <th>1</th>\n      <td>1710</td>\n      <td>pamphlet</td>\n      <td>literature</td>\n    </tr>\n    <tr>\n      <th>2</th>\n      <td>1710</td>\n      <td>pamphlet</td>\n      <td>science</td>\n    </tr>\n    <tr>\n      <th>3</th>\n      <td>1713</td>\n      <td>pamphlet</td>\n      <td>drama</td>\n    </tr>\n  </tbody>\n</table>\n</div>"
     },
     "execution_count": 27,
     "metadata": {},
     "output_type": "execute_result"
    }
   ],
   "source": [
    "d = pd.read_sql_table(\"test_a\", con)\n",
    "d"
   ],
   "metadata": {
    "collapsed": false,
    "pycharm": {
     "name": "#%%\n"
    },
    "ExecuteTime": {
     "end_time": "2023-05-15T09:46:52.795448Z",
     "start_time": "2023-05-15T09:46:52.715783Z"
    }
   }
  },
  {
   "cell_type": "markdown",
   "source": [
    "If you have larger tables, you are much better off running e.g. aggregation queries using SQL, and then just reading the results:"
   ],
   "metadata": {
    "collapsed": false,
    "pycharm": {
     "name": "#%% md\n"
    }
   }
  },
  {
   "cell_type": "code",
   "execution_count": 28,
   "outputs": [
    {
     "data": {
      "text/plain": "   year  books\n0  1710      2\n1  1713      1\n2  1700      1",
      "text/html": "<div>\n<style scoped>\n    .dataframe tbody tr th:only-of-type {\n        vertical-align: middle;\n    }\n\n    .dataframe tbody tr th {\n        vertical-align: top;\n    }\n\n    .dataframe thead th {\n        text-align: right;\n    }\n</style>\n<table border=\"1\" class=\"dataframe\">\n  <thead>\n    <tr style=\"text-align: right;\">\n      <th></th>\n      <th>year</th>\n      <th>books</th>\n    </tr>\n  </thead>\n  <tbody>\n    <tr>\n      <th>0</th>\n      <td>1710</td>\n      <td>2</td>\n    </tr>\n    <tr>\n      <th>1</th>\n      <td>1713</td>\n      <td>1</td>\n    </tr>\n    <tr>\n      <th>2</th>\n      <td>1700</td>\n      <td>1</td>\n    </tr>\n  </tbody>\n</table>\n</div>"
     },
     "execution_count": 28,
     "metadata": {},
     "output_type": "execute_result"
    }
   ],
   "source": [
    "d = pd.read_sql(text(\"\"\"\n",
    "SELECT year, COUNT(*) AS books\n",
    "FROM test_c\n",
    "GROUP BY year\n",
    "\"\"\"), con)\n",
    "d"
   ],
   "metadata": {
    "collapsed": false,
    "pycharm": {
     "name": "#%%\n"
    },
    "ExecuteTime": {
     "end_time": "2023-05-15T09:46:52.894696Z",
     "start_time": "2023-05-15T09:46:52.796889Z"
    }
   }
  },
  {
   "cell_type": "code",
   "execution_count": 48,
   "outputs": [
    {
     "data": {
      "text/plain": "<Figure size 640x480 with 1 Axes>",
      "image/png": "[encoded data removed]"
     },
     "metadata": {
      "image/png": {
       "width": 640,
       "height": 480
      }
     },
     "output_type": "display_data"
    }
   ],
   "source": [
    "import matplotlib.pyplot as plt\n",
    "d = pd.read_sql(text(\"\"\"\n",
    "SELECT year, COUNT(*) AS books\n",
    "FROM test_c\n",
    "GROUP BY year\n",
    "\"\"\"), con)\n",
    "plt.bar(d.year,d.books)\n",
    "plt.show()"
   ],
   "metadata": {
    "collapsed": false,
    "ExecuteTime": {
     "end_time": "2023-05-15T10:00:44.594836Z",
     "start_time": "2023-05-15T10:00:44.400255Z"
    }
   }
  }
 ],
 "metadata": {
  "kernelspec": {
   "display_name": "Python 3",
   "language": "python",
   "name": "python3"
  },
  "language_info": {
   "codemirror_mode": {
    "name": "ipython",
    "version": 2
   },
   "file_extension": ".py",
   "mimetype": "text/x-python",
   "name": "python",
   "nbconvert_exporter": "python",
   "pygments_lexer": "ipython2",
   "version": "2.7.6"
  }
 },
 "nbformat": 4,
 "nbformat_minor": 0
}
