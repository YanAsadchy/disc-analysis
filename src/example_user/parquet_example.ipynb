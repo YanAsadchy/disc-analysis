{
 "cells": [
  {
   "cell_type": "markdown",
   "source": [
    "The below [autoreload](https://ipython.org/ipython-doc/3/config/extensions/autoreload.html) extension ensures that if any locally imported python files change, the modules defined there are reloaded"
   ],
   "metadata": {
    "collapsed": false
   }
  },
  {
   "cell_type": "code",
   "execution_count": 1,
   "outputs": [],
   "source": [
    "%load_ext autoreload\n",
    "%autoreload 2"
   ],
   "metadata": {
    "collapsed": false,
    "ExecuteTime": {
     "end_time": "2023-05-23T06:28:06.294833Z",
     "start_time": "2023-05-23T06:28:06.258362Z"
    }
   }
  },
  {
   "cell_type": "markdown",
   "source": [
    "The below imports [`here`](https://pypi.org/project/pyprojroot/), which allows one to refer to the root directory of the project in a consistent manner across execution environments. It then adds `here()` (the root directory) to the system path to ensure that we can load python modules defined in the project."
   ],
   "metadata": {
    "collapsed": false
   }
  },
  {
   "cell_type": "code",
   "execution_count": 2,
   "outputs": [],
   "source": [
    "from hereutil import here, add_to_sys_path\n",
    "add_to_sys_path(here())"
   ],
   "metadata": {
    "collapsed": false,
    "ExecuteTime": {
     "end_time": "2023-05-23T06:28:06.310797Z",
     "start_time": "2023-05-23T06:28:06.295145Z"
    }
   }
  },
  {
   "cell_type": "markdown",
   "source": [
    "Having ensured that the root path of the project is in the system path, we can load common basis functions from [src/common_basis.py](/src/common_basis.py). The template assumes that functions useful for most work be defined in `common_basis.py`, whereas code useful for individual analyses is defined where needed.\n",
    "\n",
    "Here, we load the three datasets from parquet files using `load_abortion_parquet()`, `load_lynching_parquet()` and `load_incel_parquet()`. Each dataset is loaded as a dataclass with Pandas dataframes as its named attributes. Due to their total size of 4.6 gigabytes, the parquet files are not distributed in Git. Instead to download them from https://a3s.fi/dhh23-disc-parquet/, you can run `fetch-parquets.sh` within the `data/input/parquet` directory. Otherwise, the following code will certainly fail."
   ],
   "metadata": {
    "collapsed": false
   }
  },
  {
   "cell_type": "code",
   "execution_count": 3,
   "outputs": [
    {
     "data": {
      "text/plain": "AbortionData(abortion_conversations, abortion_tweets, abortion_tweet_hashtags, abortion_tweet_urls, abortion_tweet_mentions, abortion_matching_tweet_ids)"
     },
     "execution_count": 3,
     "metadata": {},
     "output_type": "execute_result"
    }
   ],
   "source": [
    "from src.common_basis import *\n",
    "a = load_abortion_parquet()\n",
    "a"
   ],
   "metadata": {
    "collapsed": false,
    "ExecuteTime": {
     "end_time": "2023-05-23T06:28:10.440149Z",
     "start_time": "2023-05-23T06:28:06.310640Z"
    }
   }
  },
  {
   "cell_type": "code",
   "execution_count": 4,
   "outputs": [
    {
     "data": {
      "text/plain": "           ur_conversation_id      conversation_id             tweet_id   \n0         1631406654469070849  1631406654469070849  1631543523164975106  \\\n1         1631069907700908034  1631540131273363456  1631540131273363456   \n2         1631069907700908034  1631540111526723584  1631540111526723584   \n3         1631369152781860864  1631540073526067201  1631540073526067201   \n4         1631069907700908034  1631540068698693633  1631540068698693633   \n...                       ...                  ...                  ...   \n17884370   936894265258471424   936894265258471424   936954487452897281   \n17884371   940706092753006603   940706092753006603   940721587657039873   \n17884372   989968059564679168   989968059564679168   989968604736118784   \n17884373   936856405738270722   936856405738270722   936857725480222720   \n17884374   987675106435575808   987675106435575808   987714405377900545   \n\n                    author_id           created_at  retweet_count   \n0         1465434121887436807  2023-03-03 06:34:02              0  \\\n1                  1216256394  2023-03-03 06:20:05              9   \n2                  1216256394  2023-03-03 06:20:04              6   \n3         1169711473586819072  2023-03-03 06:20:04             33   \n4                  1216256394  2023-03-03 06:20:03             37   \n...                       ...                  ...            ...   \n17884370            460181386  2017-12-02 13:45:03              0   \n17884371   772927160990433280  2017-12-12 23:14:03              0   \n17884372             46822887  2018-04-27 20:44:04            667   \n17884373                 <NA>                 <NA>           <NA>   \n17884374                 <NA>                 <NA>           <NA>   \n\n          reply_count  like_count  quote_count  lang  ... mentions   \n0                   0           0            0    en  ...        2  \\\n1                   0           0            0    en  ...        1   \n2                   0           0            0    en  ...        1   \n3                   0           0            0    en  ...        1   \n4                   0           0            0    en  ...        1   \n...               ...         ...          ...   ...  ...      ...   \n17884370            2           0            0    fr  ...        3   \n17884371            1           0            0    fr  ...        2   \n17884372          162         863          299    en  ...        0   \n17884373         <NA>        <NA>         <NA>  <NA>  ...        0   \n17884374         <NA>        <NA>         <NA>  <NA>  ...        0   \n\n          date_created_at  year_created_at  quarter_created_at   \n0              2023-03-03             2023                   1  \\\n1              2023-03-03             2023                   1   \n2              2023-03-03             2023                   1   \n3              2023-03-03             2023                   1   \n4              2023-03-03             2023                   1   \n...                   ...              ...                 ...   \n17884370       2017-12-02             2017                   4   \n17884371       2017-12-12             2017                   4   \n17884372       2018-04-27             2018                   2   \n17884373             <NA>             <NA>                <NA>   \n17884374             <NA>             <NA>                <NA>   \n\n          month_created_at  day_created_at  week_created_at hour_created_at   \n0                        3               3                9               6  \\\n1                        3               3                9               6   \n2                        3               3                9               6   \n3                        3               3                9               6   \n4                        3               3                9               6   \n...                    ...             ...              ...             ...   \n17884370                12               2               48              13   \n17884371                12              12               50              23   \n17884372                 4              27               17              20   \n17884373              <NA>            <NA>             <NA>            <NA>   \n17884374              <NA>            <NA>             <NA>            <NA>   \n\n         weekday_created_at                                          text_hash  \n0                         4  b'\\x1d\\xe67\\xa5\\xb2\\x9df+\\xd2o\\xf1\\x1f(M-\\xf3\\...  \n1                         4  b'\\xa3\\x01\\x84W\\x0c\\\\\\xe0\\xc8\\xf9Bv\\xb8\\x8c\\t\\...  \n2                         4  b'\\xed\\xa7\\xf3\\x9c\\xcdT\\x0fB\\xc65\\x95\\x14jI~R\\...  \n3                         4  b'\\xe5\\xc6\\xb7\\x86\\xf5S\\x92a\\x96{\\x91\\x95\\xe7E...  \n4                         4  b'\\xa4\\xea\\xd9jY\\xc7\\xcfN\\xac7\\xaa\\x8f\\xfe\\xae...  \n...                     ...                                                ...  \n17884370                  5  b'\\xe7\\x99\\xd3\\xa0\\x1e\\x862\\x0e\\xf2\\xb8T\\xc2\\x...  \n17884371                  1  b'\\xe6H\\xa5\\xa7#\\xb7+\\x12\\xcf\\xdb4\\xc7\\xd9[\\xb...  \n17884372                  4  b'C\\x9f\\xb8<*\\xce\\xf7\\xc5\\x90\"\\xda%}-\\xc1\\xbd\\...  \n17884373               <NA>                                               <NA>  \n17884374               <NA>                                               <NA>  \n\n[17884375 rows x 32 columns]",
      "text/html": "<div>\n<style scoped>\n    .dataframe tbody tr th:only-of-type {\n        vertical-align: middle;\n    }\n\n    .dataframe tbody tr th {\n        vertical-align: top;\n    }\n\n    .dataframe thead th {\n        text-align: right;\n    }\n</style>\n<table border=\"1\" class=\"dataframe\">\n  <thead>\n    <tr style=\"text-align: right;\">\n      <th></th>\n      <th>ur_conversation_id</th>\n      <th>conversation_id</th>\n      <th>tweet_id</th>\n      <th>author_id</th>\n      <th>created_at</th>\n      <th>retweet_count</th>\n      <th>reply_count</th>\n      <th>like_count</th>\n      <th>quote_count</th>\n      <th>lang</th>\n      <th>...</th>\n      <th>mentions</th>\n      <th>date_created_at</th>\n      <th>year_created_at</th>\n      <th>quarter_created_at</th>\n      <th>month_created_at</th>\n      <th>day_created_at</th>\n      <th>week_created_at</th>\n      <th>hour_created_at</th>\n      <th>weekday_created_at</th>\n      <th>text_hash</th>\n    </tr>\n  </thead>\n  <tbody>\n    <tr>\n      <th>0</th>\n      <td>1631406654469070849</td>\n      <td>1631406654469070849</td>\n      <td>1631543523164975106</td>\n      <td>1465434121887436807</td>\n      <td>2023-03-03 06:34:02</td>\n      <td>0</td>\n      <td>0</td>\n      <td>0</td>\n      <td>0</td>\n      <td>en</td>\n      <td>...</td>\n      <td>2</td>\n      <td>2023-03-03</td>\n      <td>2023</td>\n      <td>1</td>\n      <td>3</td>\n      <td>3</td>\n      <td>9</td>\n      <td>6</td>\n      <td>4</td>\n      <td>b'\\x1d\\xe67\\xa5\\xb2\\x9df+\\xd2o\\xf1\\x1f(M-\\xf3\\...</td>\n    </tr>\n    <tr>\n      <th>1</th>\n      <td>1631069907700908034</td>\n      <td>1631540131273363456</td>\n      <td>1631540131273363456</td>\n      <td>1216256394</td>\n      <td>2023-03-03 06:20:05</td>\n      <td>9</td>\n      <td>0</td>\n      <td>0</td>\n      <td>0</td>\n      <td>en</td>\n      <td>...</td>\n      <td>1</td>\n      <td>2023-03-03</td>\n      <td>2023</td>\n      <td>1</td>\n      <td>3</td>\n      <td>3</td>\n      <td>9</td>\n      <td>6</td>\n      <td>4</td>\n      <td>b'\\xa3\\x01\\x84W\\x0c\\\\\\xe0\\xc8\\xf9Bv\\xb8\\x8c\\t\\...</td>\n    </tr>\n    <tr>\n      <th>2</th>\n      <td>1631069907700908034</td>\n      <td>1631540111526723584</td>\n      <td>1631540111526723584</td>\n      <td>1216256394</td>\n      <td>2023-03-03 06:20:04</td>\n      <td>6</td>\n      <td>0</td>\n      <td>0</td>\n      <td>0</td>\n      <td>en</td>\n      <td>...</td>\n      <td>1</td>\n      <td>2023-03-03</td>\n      <td>2023</td>\n      <td>1</td>\n      <td>3</td>\n      <td>3</td>\n      <td>9</td>\n      <td>6</td>\n      <td>4</td>\n      <td>b'\\xed\\xa7\\xf3\\x9c\\xcdT\\x0fB\\xc65\\x95\\x14jI~R\\...</td>\n    </tr>\n    <tr>\n      <th>3</th>\n      <td>1631369152781860864</td>\n      <td>1631540073526067201</td>\n      <td>1631540073526067201</td>\n      <td>1169711473586819072</td>\n      <td>2023-03-03 06:20:04</td>\n      <td>33</td>\n      <td>0</td>\n      <td>0</td>\n      <td>0</td>\n      <td>en</td>\n      <td>...</td>\n      <td>1</td>\n      <td>2023-03-03</td>\n      <td>2023</td>\n      <td>1</td>\n      <td>3</td>\n      <td>3</td>\n      <td>9</td>\n      <td>6</td>\n      <td>4</td>\n      <td>b'\\xe5\\xc6\\xb7\\x86\\xf5S\\x92a\\x96{\\x91\\x95\\xe7E...</td>\n    </tr>\n    <tr>\n      <th>4</th>\n      <td>1631069907700908034</td>\n      <td>1631540068698693633</td>\n      <td>1631540068698693633</td>\n      <td>1216256394</td>\n      <td>2023-03-03 06:20:03</td>\n      <td>37</td>\n      <td>0</td>\n      <td>0</td>\n      <td>0</td>\n      <td>en</td>\n      <td>...</td>\n      <td>1</td>\n      <td>2023-03-03</td>\n      <td>2023</td>\n      <td>1</td>\n      <td>3</td>\n      <td>3</td>\n      <td>9</td>\n      <td>6</td>\n      <td>4</td>\n      <td>b'\\xa4\\xea\\xd9jY\\xc7\\xcfN\\xac7\\xaa\\x8f\\xfe\\xae...</td>\n    </tr>\n    <tr>\n      <th>...</th>\n      <td>...</td>\n      <td>...</td>\n      <td>...</td>\n      <td>...</td>\n      <td>...</td>\n      <td>...</td>\n      <td>...</td>\n      <td>...</td>\n      <td>...</td>\n      <td>...</td>\n      <td>...</td>\n      <td>...</td>\n      <td>...</td>\n      <td>...</td>\n      <td>...</td>\n      <td>...</td>\n      <td>...</td>\n      <td>...</td>\n      <td>...</td>\n      <td>...</td>\n      <td>...</td>\n    </tr>\n    <tr>\n      <th>17884370</th>\n      <td>936894265258471424</td>\n      <td>936894265258471424</td>\n      <td>936954487452897281</td>\n      <td>460181386</td>\n      <td>2017-12-02 13:45:03</td>\n      <td>0</td>\n      <td>2</td>\n      <td>0</td>\n      <td>0</td>\n      <td>fr</td>\n      <td>...</td>\n      <td>3</td>\n      <td>2017-12-02</td>\n      <td>2017</td>\n      <td>4</td>\n      <td>12</td>\n      <td>2</td>\n      <td>48</td>\n      <td>13</td>\n      <td>5</td>\n      <td>b'\\xe7\\x99\\xd3\\xa0\\x1e\\x862\\x0e\\xf2\\xb8T\\xc2\\x...</td>\n    </tr>\n    <tr>\n      <th>17884371</th>\n      <td>940706092753006603</td>\n      <td>940706092753006603</td>\n      <td>940721587657039873</td>\n      <td>772927160990433280</td>\n      <td>2017-12-12 23:14:03</td>\n      <td>0</td>\n      <td>1</td>\n      <td>0</td>\n      <td>0</td>\n      <td>fr</td>\n      <td>...</td>\n      <td>2</td>\n      <td>2017-12-12</td>\n      <td>2017</td>\n      <td>4</td>\n      <td>12</td>\n      <td>12</td>\n      <td>50</td>\n      <td>23</td>\n      <td>1</td>\n      <td>b'\\xe6H\\xa5\\xa7#\\xb7+\\x12\\xcf\\xdb4\\xc7\\xd9[\\xb...</td>\n    </tr>\n    <tr>\n      <th>17884372</th>\n      <td>989968059564679168</td>\n      <td>989968059564679168</td>\n      <td>989968604736118784</td>\n      <td>46822887</td>\n      <td>2018-04-27 20:44:04</td>\n      <td>667</td>\n      <td>162</td>\n      <td>863</td>\n      <td>299</td>\n      <td>en</td>\n      <td>...</td>\n      <td>0</td>\n      <td>2018-04-27</td>\n      <td>2018</td>\n      <td>2</td>\n      <td>4</td>\n      <td>27</td>\n      <td>17</td>\n      <td>20</td>\n      <td>4</td>\n      <td>b'C\\x9f\\xb8&lt;*\\xce\\xf7\\xc5\\x90\"\\xda%}-\\xc1\\xbd\\...</td>\n    </tr>\n    <tr>\n      <th>17884373</th>\n      <td>936856405738270722</td>\n      <td>936856405738270722</td>\n      <td>936857725480222720</td>\n      <td>&lt;NA&gt;</td>\n      <td>&lt;NA&gt;</td>\n      <td>&lt;NA&gt;</td>\n      <td>&lt;NA&gt;</td>\n      <td>&lt;NA&gt;</td>\n      <td>&lt;NA&gt;</td>\n      <td>&lt;NA&gt;</td>\n      <td>...</td>\n      <td>0</td>\n      <td>&lt;NA&gt;</td>\n      <td>&lt;NA&gt;</td>\n      <td>&lt;NA&gt;</td>\n      <td>&lt;NA&gt;</td>\n      <td>&lt;NA&gt;</td>\n      <td>&lt;NA&gt;</td>\n      <td>&lt;NA&gt;</td>\n      <td>&lt;NA&gt;</td>\n      <td>&lt;NA&gt;</td>\n    </tr>\n    <tr>\n      <th>17884374</th>\n      <td>987675106435575808</td>\n      <td>987675106435575808</td>\n      <td>987714405377900545</td>\n      <td>&lt;NA&gt;</td>\n      <td>&lt;NA&gt;</td>\n      <td>&lt;NA&gt;</td>\n      <td>&lt;NA&gt;</td>\n      <td>&lt;NA&gt;</td>\n      <td>&lt;NA&gt;</td>\n      <td>&lt;NA&gt;</td>\n      <td>...</td>\n      <td>0</td>\n      <td>&lt;NA&gt;</td>\n      <td>&lt;NA&gt;</td>\n      <td>&lt;NA&gt;</td>\n      <td>&lt;NA&gt;</td>\n      <td>&lt;NA&gt;</td>\n      <td>&lt;NA&gt;</td>\n      <td>&lt;NA&gt;</td>\n      <td>&lt;NA&gt;</td>\n      <td>&lt;NA&gt;</td>\n    </tr>\n  </tbody>\n</table>\n<p>17884375 rows × 32 columns</p>\n</div>"
     },
     "execution_count": 4,
     "metadata": {},
     "output_type": "execute_result"
    }
   ],
   "source": [
    "a.abortion_tweets"
   ],
   "metadata": {
    "collapsed": false,
    "ExecuteTime": {
     "end_time": "2023-05-23T06:28:10.482778Z",
     "start_time": "2023-05-23T06:28:10.440449Z"
    }
   }
  },
  {
   "cell_type": "code",
   "execution_count": 5,
   "outputs": [
    {
     "data": {
      "text/plain": "<Figure size 640x480 with 1 Axes>",
      "image/png": "[encoded data removed]"
     },
     "metadata": {},
     "output_type": "display_data"
    }
   ],
   "source": [
    "import matplotlib.pyplot as plt\n",
    "s = a.abortion_tweets.groupby('year_created_at').size()\n",
    "s.plot(x=s.index,y=s.values)\n",
    "plt.show()\n"
   ],
   "metadata": {
    "collapsed": false,
    "ExecuteTime": {
     "end_time": "2023-05-23T06:28:11.094202Z",
     "start_time": "2023-05-23T06:28:10.478148Z"
    }
   }
  },
  {
   "cell_type": "code",
   "execution_count": 6,
   "outputs": [
    {
     "data": {
      "text/plain": "LynchingData(lynching_conversations, lynching_tweets, lynching_tweet_hashtags, lynching_tweet_urls, lynching_tweet_mentions, lynching_matching_tweet_ids)"
     },
     "execution_count": 6,
     "metadata": {},
     "output_type": "execute_result"
    }
   ],
   "source": [
    "l = load_lynching_parquet()\n",
    "l"
   ],
   "metadata": {
    "collapsed": false,
    "ExecuteTime": {
     "end_time": "2023-05-23T06:28:19.312953Z",
     "start_time": "2023-05-23T06:28:11.094408Z"
    }
   }
  },
  {
   "cell_type": "code",
   "execution_count": 7,
   "outputs": [
    {
     "data": {
      "text/plain": "IncelData(incel_threads, incel_posts, incel_users, incel_quotes)"
     },
     "execution_count": 7,
     "metadata": {},
     "output_type": "execute_result"
    }
   ],
   "source": [
    "i = load_incel_parquet()\n",
    "i"
   ],
   "metadata": {
    "collapsed": false,
    "ExecuteTime": {
     "end_time": "2023-05-23T06:28:21.288788Z",
     "start_time": "2023-05-23T06:28:19.311895Z"
    }
   }
  },
  {
   "cell_type": "code",
   "execution_count": null,
   "outputs": [],
   "source": [],
   "metadata": {
    "collapsed": false
   }
  }
 ],
 "metadata": {
  "kernelspec": {
   "display_name": "Python 3",
   "language": "python",
   "name": "python3"
  },
  "language_info": {
   "codemirror_mode": {
    "name": "ipython",
    "version": 2
   },
   "file_extension": ".py",
   "mimetype": "text/x-python",
   "name": "python",
   "nbconvert_exporter": "python",
   "pygments_lexer": "ipython2",
   "version": "2.7.6"
  }
 },
 "nbformat": 4,
 "nbformat_minor": 0
}
