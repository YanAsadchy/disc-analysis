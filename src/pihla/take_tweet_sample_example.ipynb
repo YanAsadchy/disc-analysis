{
 "cells": [
  {
   "cell_type": "markdown",
   "metadata": {
    "pycharm": {
     "name": "#%% md\n"
    }
   },
   "source": [
    "# Setup"
   ]
  },
  {
   "cell_type": "markdown",
   "metadata": {
    "pycharm": {
     "name": "#%% md\n"
    }
   },
   "source": [
    "The below [autoreload](https://ipython.org/ipython-doc/3/config/extensions/autoreload.html) extension ensures that if any locally imported python files change, the modules defined there are reloaded"
   ]
  },
  {
   "cell_type": "code",
   "execution_count": 1,
   "metadata": {
    "ExecuteTime": {
     "end_time": "2023-05-15T09:46:51.548141Z",
     "start_time": "2023-05-15T09:46:51.499519Z"
    },
    "pycharm": {
     "name": "#%%\n"
    }
   },
   "outputs": [],
   "source": [
    "%load_ext autoreload\n",
    "%autoreload 2"
   ]
  },
  {
   "cell_type": "markdown",
   "metadata": {
    "pycharm": {
     "name": "#%% md\n"
    }
   },
   "source": [
    "The below imports [`here`](https://pypi.org/project/pyprojroot/), which allows one to refer to the root directory of the project in a consistent manner across execution environments. It then adds `here()` (the root directory) to the system path to ensure that we can load python modules defined in the project."
   ]
  },
  {
   "cell_type": "code",
   "execution_count": 2,
   "metadata": {
    "ExecuteTime": {
     "end_time": "2023-05-15T09:46:51.563661Z",
     "start_time": "2023-05-15T09:46:51.538452Z"
    },
    "pycharm": {
     "name": "#%%\n"
    }
   },
   "outputs": [],
   "source": [
    "#!pip install hereutil flask_sqlalchemy\n",
    "\n",
    "from hereutil import here, add_to_sys_path\n",
    "add_to_sys_path(here())"
   ]
  },
  {
   "cell_type": "markdown",
   "metadata": {
    "pycharm": {
     "name": "#%% md\n"
    }
   },
   "source": [
    "Having ensured that the root path of the project is in the system path, we can load common basis functions from [src/common_basis.py](/src/common_basis.py). The template assumes that functions useful for most work be defined in `common_basis.py`, whereas code useful for individual analyses is defined where needed.\n",
    "\n",
    "Naturally, if more refined organisation of common code is needed, one is also free to define whichever other modules one wants.\n",
    "\n",
    "The central object defined in `common_basis` is `con`, which is the [MariaDB](https://mariadb.com/) (MySQL) database connection (an [SQLAlchemy Connection](https://docs.sqlalchemy.org/en/14/core/connections.html)) through which both ready data is accessed, as well as new data stored for others to reuse. Below, you will see both how to use con to store data in the database, as well as how query it.\n",
    "\n",
    "The details of the database connection are stored in [`db_params.yaml`](/db_params.yaml). The password is given separately. **DO NOT INCLUDE THE PASSWORD IN ANY CODE YOU COMMIT TO GITHUB**. If running this notebook, it will ask for the password the first time you run it, and then store it separately in your keyring. This requires a working keyring implementation on your system. Consult the [`keyring`](https://pypi.org/project/keyring/) package documentation if you have problems.  If you cannot get it to work, a second option is to create a `db_secret.yaml` file in the project root directory with `db_pass: [PASSWORD]` as the content. This file is already set to be ignored by Git so it wouldn't accidentally get included in a commit, but still, if you do this, **DON'T MAKE THE MISTAKE OF COMMITTING THE FILE TO GITHUB**.\n"
   ]
  },
  {
   "cell_type": "code",
   "execution_count": 92,
   "metadata": {
    "ExecuteTime": {
     "end_time": "2023-05-15T09:46:51.588851Z",
     "start_time": "2023-05-15T09:46:51.566783Z"
    },
    "pycharm": {
     "name": "#%%\n"
    }
   },
   "outputs": [],
   "source": [
    "from src.common_basis import *\n",
    "\n",
    "eng, con = get_connection()"
   ]
  },
  {
   "cell_type": "markdown",
   "metadata": {
    "pycharm": {
     "name": "#%% md\n"
    }
   },
   "source": [
    "## Example of reading tweets from lynching_tweets_a table\n",
    "\n",
    "The following code reads a random sample of tweets from lynching_tweets_a table with following specifications:\n",
    "\n",
    "- **keyword**: each tweet returned by the query has the keyword as a substring\n",
    "- **n** : upper limit of how many tweets are fetched\n",
    "- **start_date**: fetches tweets where date_created_at is the start_date or later\n",
    "- **end_date**: looks for tweets until the day end_date - 1 "
   ]
  },
  {
   "cell_type": "code",
   "execution_count": null,
   "metadata": {
    "ExecuteTime": {
     "end_time": "2023-05-15T09:46:52.894696Z",
     "start_time": "2023-05-15T09:46:52.796889Z"
    },
    "pycharm": {
     "name": "#%%\n"
    }
   },
   "outputs": [
    {
     "name": "stdout",
     "output_type": "stream",
     "text": [
      "Query:  \n",
      "SELECT *\n",
      "FROM lynching_tweets_a\n",
      "WHERE MATCH(text) AGAINST('india' IN BOOLEAN MODE) \n",
      "AND created_at BETWEEN '2020-02-01' AND '2023-02-05'\n",
      "ORDER BY RAND()\n",
      "LIMIT 100;\n",
      "\n"
     ]
    }
   ],
   "source": [
    "keyword = \"india\"\n",
    "n = 100\n",
    "start_date = '2020-02-01'\n",
    "end_date = '2023-02-05'\n",
    "\n",
    "query = f\"\"\"\n",
    "SELECT *\n",
    "FROM lynching_tweets_a\n",
    "WHERE MATCH(text) AGAINST('{keyword}' IN BOOLEAN MODE) \n",
    "AND created_at BETWEEN '{start_date}' AND '{end_date}'\n",
    "ORDER BY RAND()\n",
    "LIMIT {n};\n",
    "\"\"\"\n",
    "\n",
    "print(\"Query: \", query)\n",
    "\n",
    "df = pd.read_sql(text(query), con)"
   ]
  },
  {
   "cell_type": "code",
   "execution_count": 111,
   "metadata": {},
   "outputs": [
    {
     "data": {
      "text/plain": [
       "0     There is a kkk in India, it just goes by a dif...\n",
       "1     RT @MahuaMoitra: Welcome to New India where di...\n",
       "2     RT @pbhushan1: The signs of collapse of democr...\n",
       "3     Lynching = नरसंघार । \\n\\nWhat actually Congres...\n",
       "4     RT @mujahid96327777: @RahulGandhi Some of bhak...\n",
       "                            ...                        \n",
       "95    RT @cjwerleman: Muslims being falsely blamed f...\n",
       "96    RT @ashoswai: A Muslim man and his parents are...\n",
       "97    RT @suchitrav: Right wing Hindu Nationalists a...\n",
       "98    @USAndIndia @rishhikesh Pure nonsense by USA \\...\n",
       "99    @rwac48 Why dont Modi asked to RSS hindutva te...\n",
       "Name: text, Length: 100, dtype: object"
      ]
     },
     "execution_count": 111,
     "metadata": {},
     "output_type": "execute_result"
    }
   ],
   "source": [
    "# Show text column of the result \n",
    "df['text']"
   ]
  },
  {
   "cell_type": "code",
   "execution_count": null,
   "metadata": {},
   "outputs": [],
   "source": []
  }
 ],
 "metadata": {
  "kernelspec": {
   "display_name": "Python 3 (ipykernel)",
   "language": "python",
   "name": "python3"
  },
  "language_info": {
   "codemirror_mode": {
    "name": "ipython",
    "version": 3
   },
   "file_extension": ".py",
   "mimetype": "text/x-python",
   "name": "python",
   "nbconvert_exporter": "python",
   "pygments_lexer": "ipython3",
   "version": "3.8.3"
  }
 },
 "nbformat": 4,
 "nbformat_minor": 1
}
