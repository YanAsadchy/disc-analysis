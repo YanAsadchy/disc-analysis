{
 "cells": [
  {
   "cell_type": "markdown",
   "source": [
    "The below [autoreload](https://ipython.org/ipython-doc/3/config/extensions/autoreload.html) extension ensures that if any locally imported python files change, the modules defined there are reloaded"
   ],
   "metadata": {
    "collapsed": false
   }
  },
  {
   "cell_type": "code",
   "execution_count": 1,
   "outputs": [],
   "source": [
    "%load_ext autoreload\n",
    "%autoreload 2"
   ],
   "metadata": {
    "collapsed": false,
    "ExecuteTime": {
     "end_time": "2023-05-26T08:18:28.135429100Z",
     "start_time": "2023-05-26T08:18:27.203859800Z"
    }
   }
  },
  {
   "cell_type": "markdown",
   "source": [
    "The below imports [`here`](https://pypi.org/project/pyprojroot/), which allows one to refer to the root directory of the project in a consistent manner across execution environments. It then adds `here()` (the root directory) to the system path to ensure that we can load python modules defined in the project."
   ],
   "metadata": {
    "collapsed": false
   }
  },
  {
   "cell_type": "code",
   "execution_count": 1,
   "outputs": [],
   "source": [
    "from hereutil import here, add_to_sys_path\n",
    "add_to_sys_path(here())"
   ],
   "metadata": {
    "collapsed": false,
    "ExecuteTime": {
     "end_time": "2023-05-26T08:24:56.333168900Z",
     "start_time": "2023-05-26T08:24:56.232507900Z"
    }
   }
  },
  {
   "cell_type": "markdown",
   "source": [
    "Having ensured that the root path of the project is in the system path, we can load common basis functions from [src/common_basis.py](/src/common_basis.py). The template assumes that functions useful for most work be defined in `common_basis.py`, whereas code useful for individual analyses is defined where needed.\n",
    "\n",
    "Here, we load the three datasets from parquet files using `load_abortion_parquet()`, `load_lynching_parquet()` and `load_incel_parquet()`. Each dataset is loaded as a dataclass with Pandas dataframes as its named attributes. Due to their total size of 4.6 gigabytes, the parquet files are not distributed in Git. Instead to download them from https://a3s.fi/dhh23-disc-parquet/, you can run `fetch-parquets.sh` within the `data/input/parquet` directory. Otherwise, the following code will certainly fail."
   ],
   "metadata": {
    "collapsed": false
   }
  },
  {
   "cell_type": "code",
   "execution_count": null,
   "outputs": [],
   "source": [
    "#incel_data"
   ],
   "metadata": {
    "collapsed": false
   }
  },
  {
   "cell_type": "code",
   "execution_count": null,
   "outputs": [],
   "source": [
    "from src.common_basis import *\n",
    "\n",
    "#a = load_abortion_parquet()\n",
    "#a"
   ],
   "metadata": {
    "collapsed": false,
    "ExecuteTime": {
     "start_time": "2023-05-26T08:18:28.353051800Z"
    }
   }
  },
  {
   "cell_type": "code",
   "execution_count": null,
   "outputs": [],
   "source": [
    "#a.abortion_tweets"
   ],
   "metadata": {
    "collapsed": false
   }
  },
  {
   "cell_type": "code",
   "execution_count": null,
   "outputs": [],
   "source": [
    "#import matplotlib.pyplot as plt\n",
    "#s = a.abortion_tweets.groupby('year_created_at').size()\n",
    "#s.plot(x=s.index,y=s.values)\n",
    "#plt.show()\n"
   ],
   "metadata": {
    "collapsed": false
   }
  },
  {
   "cell_type": "code",
   "execution_count": null,
   "outputs": [],
   "source": [
    "#l = load_lynching_parquet()\n",
    "#l"
   ],
   "metadata": {
    "collapsed": false
   }
  },
  {
   "cell_type": "code",
   "execution_count": 2,
   "outputs": [
    {
     "data": {
      "text/plain": "IncelData(incel_threads, incel_posts, incel_users, incel_quotes)"
     },
     "execution_count": 2,
     "metadata": {},
     "output_type": "execute_result"
    }
   ],
   "source": [
    "from src.common_basis import *\n",
    "\n",
    "i = load_incel_parquet()\n",
    "i"
   ],
   "metadata": {
    "collapsed": false,
    "ExecuteTime": {
     "end_time": "2023-05-26T08:25:36.381382Z",
     "start_time": "2023-05-26T08:25:30.873762200Z"
    }
   }
  },
  {
   "cell_type": "code",
   "execution_count": 3,
   "outputs": [
    {
     "data": {
      "text/plain": "         post_id   post_id_str  poster_id          time_posted   \n0              1  post-8897672          0  2022-06-02 04:02:35  \\\n1              2  post-8897678          1  2022-06-02 04:04:16   \n2              3  post-8897741          2  2022-06-02 04:12:32   \n3              4  post-8897798          0  2022-06-02 04:20:35   \n4              5  post-8898099          3  2022-06-02 05:25:56   \n...          ...           ...        ...                  ...   \n2266019  2266019    post-65986       1111  2017-12-01 02:25:46   \n2266020  2266020    post-66068        444  2017-12-01 03:00:02   \n2266021  2266021    post-66078       1111  2017-12-01 03:03:54   \n2266022  2266022    post-66110        444  2017-12-01 03:23:43   \n2266023  2266023    post-69380       5677  2017-12-02 09:41:07   \n\n                                              post_content   \n0        Or maybe she just realized Chad will never com...  \\\n1        Ofc Chad will never commit to a crazy bpd toilet.   \n2           Ill give her a ride in exchange for some head.   \n3        A man doing the same thing would have been sub...   \n4        \n\nControlledInsanity said:\n\n\n\nA man doing the ...   \n...                                                    ...   \n2266019  \n\nWarmIncelation said:\n\n\n\nFrom my perspective ...   \n2266020  \n\nuniversallyabhorred said:\n\n\n\nFinally it is w...   \n2266021  \n\nnausea said:\n\n\n\nI am sure the admin and the ...   \n2266022  \n\nuniversallyabhorred said:\n\n\n\nAdmins don't gi...   \n2266023  \n\nuniversallyabhorred said:\n\n\n\nAdmins don't gi...   \n\n                                                 post_html  thread_id   \n0        <div class=\"message-content js-messageContent\"...          0  \\\n1        <div class=\"message-content js-messageContent\"...          0   \n2        <div class=\"message-content js-messageContent\"...          0   \n3        <div class=\"message-content js-messageContent\"...          0   \n4        <div class=\"message-content js-messageContent\"...          0   \n...                                                    ...        ...   \n2266019  <div class=\"message-content js-messageContent\"...     132761   \n2266020  <div class=\"message-content js-messageContent\"...     132761   \n2266021  <div class=\"message-content js-messageContent\"...     132761   \n2266022  <div class=\"message-content js-messageContent\"...     132761   \n2266023  <div class=\"message-content js-messageContent\"...     132761   \n\n         post_order_in_thread  \n0                           1  \n1                           2  \n2                           3  \n3                           4  \n4                           5  \n...                       ...  \n2266019                    33  \n2266020                    34  \n2266021                    35  \n2266022                    36  \n2266023                    37  \n\n[2266024 rows x 8 columns]",
      "text/html": "<div>\n<style scoped>\n    .dataframe tbody tr th:only-of-type {\n        vertical-align: middle;\n    }\n\n    .dataframe tbody tr th {\n        vertical-align: top;\n    }\n\n    .dataframe thead th {\n        text-align: right;\n    }\n</style>\n<table border=\"1\" class=\"dataframe\">\n  <thead>\n    <tr style=\"text-align: right;\">\n      <th></th>\n      <th>post_id</th>\n      <th>post_id_str</th>\n      <th>poster_id</th>\n      <th>time_posted</th>\n      <th>post_content</th>\n      <th>post_html</th>\n      <th>thread_id</th>\n      <th>post_order_in_thread</th>\n    </tr>\n  </thead>\n  <tbody>\n    <tr>\n      <th>0</th>\n      <td>1</td>\n      <td>post-8897672</td>\n      <td>0</td>\n      <td>2022-06-02 04:02:35</td>\n      <td>Or maybe she just realized Chad will never com...</td>\n      <td>&lt;div class=\"message-content js-messageContent\"...</td>\n      <td>0</td>\n      <td>1</td>\n    </tr>\n    <tr>\n      <th>1</th>\n      <td>2</td>\n      <td>post-8897678</td>\n      <td>1</td>\n      <td>2022-06-02 04:04:16</td>\n      <td>Ofc Chad will never commit to a crazy bpd toilet.</td>\n      <td>&lt;div class=\"message-content js-messageContent\"...</td>\n      <td>0</td>\n      <td>2</td>\n    </tr>\n    <tr>\n      <th>2</th>\n      <td>3</td>\n      <td>post-8897741</td>\n      <td>2</td>\n      <td>2022-06-02 04:12:32</td>\n      <td>Ill give her a ride in exchange for some head.</td>\n      <td>&lt;div class=\"message-content js-messageContent\"...</td>\n      <td>0</td>\n      <td>3</td>\n    </tr>\n    <tr>\n      <th>3</th>\n      <td>4</td>\n      <td>post-8897798</td>\n      <td>0</td>\n      <td>2022-06-02 04:20:35</td>\n      <td>A man doing the same thing would have been sub...</td>\n      <td>&lt;div class=\"message-content js-messageContent\"...</td>\n      <td>0</td>\n      <td>4</td>\n    </tr>\n    <tr>\n      <th>4</th>\n      <td>5</td>\n      <td>post-8898099</td>\n      <td>3</td>\n      <td>2022-06-02 05:25:56</td>\n      <td>ControlledInsanity said:\n\n\n\nA man doing the ...</td>\n      <td>&lt;div class=\"message-content js-messageContent\"...</td>\n      <td>0</td>\n      <td>5</td>\n    </tr>\n    <tr>\n      <th>...</th>\n      <td>...</td>\n      <td>...</td>\n      <td>...</td>\n      <td>...</td>\n      <td>...</td>\n      <td>...</td>\n      <td>...</td>\n      <td>...</td>\n    </tr>\n    <tr>\n      <th>2266019</th>\n      <td>2266019</td>\n      <td>post-65986</td>\n      <td>1111</td>\n      <td>2017-12-01 02:25:46</td>\n      <td>WarmIncelation said:\n\n\n\nFrom my perspective ...</td>\n      <td>&lt;div class=\"message-content js-messageContent\"...</td>\n      <td>132761</td>\n      <td>33</td>\n    </tr>\n    <tr>\n      <th>2266020</th>\n      <td>2266020</td>\n      <td>post-66068</td>\n      <td>444</td>\n      <td>2017-12-01 03:00:02</td>\n      <td>universallyabhorred said:\n\n\n\nFinally it is w...</td>\n      <td>&lt;div class=\"message-content js-messageContent\"...</td>\n      <td>132761</td>\n      <td>34</td>\n    </tr>\n    <tr>\n      <th>2266021</th>\n      <td>2266021</td>\n      <td>post-66078</td>\n      <td>1111</td>\n      <td>2017-12-01 03:03:54</td>\n      <td>nausea said:\n\n\n\nI am sure the admin and the ...</td>\n      <td>&lt;div class=\"message-content js-messageContent\"...</td>\n      <td>132761</td>\n      <td>35</td>\n    </tr>\n    <tr>\n      <th>2266022</th>\n      <td>2266022</td>\n      <td>post-66110</td>\n      <td>444</td>\n      <td>2017-12-01 03:23:43</td>\n      <td>universallyabhorred said:\n\n\n\nAdmins don't gi...</td>\n      <td>&lt;div class=\"message-content js-messageContent\"...</td>\n      <td>132761</td>\n      <td>36</td>\n    </tr>\n    <tr>\n      <th>2266023</th>\n      <td>2266023</td>\n      <td>post-69380</td>\n      <td>5677</td>\n      <td>2017-12-02 09:41:07</td>\n      <td>universallyabhorred said:\n\n\n\nAdmins don't gi...</td>\n      <td>&lt;div class=\"message-content js-messageContent\"...</td>\n      <td>132761</td>\n      <td>37</td>\n    </tr>\n  </tbody>\n</table>\n<p>2266024 rows × 8 columns</p>\n</div>"
     },
     "execution_count": 3,
     "metadata": {},
     "output_type": "execute_result"
    }
   ],
   "source": [
    "i.incel_posts   "
   ],
   "metadata": {
    "collapsed": false,
    "ExecuteTime": {
     "end_time": "2023-05-26T08:25:54.969482800Z",
     "start_time": "2023-05-26T08:25:54.766801400Z"
    }
   }
  },
  {
   "cell_type": "code",
   "execution_count": 4,
   "outputs": [
    {
     "data": {
      "text/plain": "      poster_id         poster_name   \n0             0  ControlledInsanity  \\\n1             1          LesscoBlob   \n2             2               Ducky   \n3             3  Misogynist Curry 卐   \n4             4           BrettyBoy   \n...         ...                 ...   \n8565       8565        MadScientist   \n8566       8566               Øllie   \n8567       8567           Dylansaga   \n8568       8568            yungnani   \n8569       8569             Buzzcut   \n\n                                   poster_title        poster_joined   \n0                Legit NoFap World Champion AMA  2018-04-15 00:00:00  \\\n1                  Ryan Gosling is literally ME  2022-01-25 00:00:00   \n2     Supreme Gentleman, Scholar, and Evil-Doer  2022-05-18 00:00:00   \n3                         Loves to fap to pawgs  2022-03-25 00:00:00   \n4                            Locally undesired.  2019-02-14 00:00:00   \n...                                         ...                  ...   \n8565                                    Greycel  2018-05-22 00:00:00   \n8566                                    Greycel  2018-11-18 00:00:00   \n8567                                    Greycel  2018-05-12 00:00:00   \n8568                         coping with sports  2021-04-27 00:00:00   \n8569                                    Greycel  2018-01-25 00:00:00   \n\n      poster_total_posts  \n0                   2825  \n1                  11759  \n2                   1941  \n3                   7869  \n4                 101836  \n...                  ...  \n8565                   3  \n8566                   2  \n8567                  68  \n8568                   7  \n8569                  28  \n\n[8570 rows x 5 columns]",
      "text/html": "<div>\n<style scoped>\n    .dataframe tbody tr th:only-of-type {\n        vertical-align: middle;\n    }\n\n    .dataframe tbody tr th {\n        vertical-align: top;\n    }\n\n    .dataframe thead th {\n        text-align: right;\n    }\n</style>\n<table border=\"1\" class=\"dataframe\">\n  <thead>\n    <tr style=\"text-align: right;\">\n      <th></th>\n      <th>poster_id</th>\n      <th>poster_name</th>\n      <th>poster_title</th>\n      <th>poster_joined</th>\n      <th>poster_total_posts</th>\n    </tr>\n  </thead>\n  <tbody>\n    <tr>\n      <th>0</th>\n      <td>0</td>\n      <td>ControlledInsanity</td>\n      <td>Legit NoFap World Champion AMA</td>\n      <td>2018-04-15 00:00:00</td>\n      <td>2825</td>\n    </tr>\n    <tr>\n      <th>1</th>\n      <td>1</td>\n      <td>LesscoBlob</td>\n      <td>Ryan Gosling is literally ME</td>\n      <td>2022-01-25 00:00:00</td>\n      <td>11759</td>\n    </tr>\n    <tr>\n      <th>2</th>\n      <td>2</td>\n      <td>Ducky</td>\n      <td>Supreme Gentleman, Scholar, and Evil-Doer</td>\n      <td>2022-05-18 00:00:00</td>\n      <td>1941</td>\n    </tr>\n    <tr>\n      <th>3</th>\n      <td>3</td>\n      <td>Misogynist Curry 卐</td>\n      <td>Loves to fap to pawgs</td>\n      <td>2022-03-25 00:00:00</td>\n      <td>7869</td>\n    </tr>\n    <tr>\n      <th>4</th>\n      <td>4</td>\n      <td>BrettyBoy</td>\n      <td>Locally undesired.</td>\n      <td>2019-02-14 00:00:00</td>\n      <td>101836</td>\n    </tr>\n    <tr>\n      <th>...</th>\n      <td>...</td>\n      <td>...</td>\n      <td>...</td>\n      <td>...</td>\n      <td>...</td>\n    </tr>\n    <tr>\n      <th>8565</th>\n      <td>8565</td>\n      <td>MadScientist</td>\n      <td>Greycel</td>\n      <td>2018-05-22 00:00:00</td>\n      <td>3</td>\n    </tr>\n    <tr>\n      <th>8566</th>\n      <td>8566</td>\n      <td>Øllie</td>\n      <td>Greycel</td>\n      <td>2018-11-18 00:00:00</td>\n      <td>2</td>\n    </tr>\n    <tr>\n      <th>8567</th>\n      <td>8567</td>\n      <td>Dylansaga</td>\n      <td>Greycel</td>\n      <td>2018-05-12 00:00:00</td>\n      <td>68</td>\n    </tr>\n    <tr>\n      <th>8568</th>\n      <td>8568</td>\n      <td>yungnani</td>\n      <td>coping with sports</td>\n      <td>2021-04-27 00:00:00</td>\n      <td>7</td>\n    </tr>\n    <tr>\n      <th>8569</th>\n      <td>8569</td>\n      <td>Buzzcut</td>\n      <td>Greycel</td>\n      <td>2018-01-25 00:00:00</td>\n      <td>28</td>\n    </tr>\n  </tbody>\n</table>\n<p>8570 rows × 5 columns</p>\n</div>"
     },
     "execution_count": 4,
     "metadata": {},
     "output_type": "execute_result"
    }
   ],
   "source": [
    "i.incel_users"
   ],
   "metadata": {
    "collapsed": false,
    "ExecuteTime": {
     "end_time": "2023-05-26T08:27:54.655208600Z",
     "start_time": "2023-05-26T08:27:54.508003Z"
    }
   }
  },
  {
   "cell_type": "code",
   "execution_count": 5,
   "outputs": [
    {
     "data": {
      "text/plain": "        thread_id                                       thread_title   \n0               0  0.00005 femtoseconds without attention from Chad   \\\n1               1                    0 posts accounts in the bunker    \n2               2  0,1/10 Cthulhu abomination of an escort I won'...   \n3               3                                       0 following    \n4               4                                          0 alerts    \n...           ...                                                ...   \n132757     132757        Zyros's physical domination over other men    \n132758     132758  Zyros uses FACEAPPS to fake his photos. Explan...   \n132759     132759                                             zyros    \n132760     132760                                             zyros    \n132761     132761                        Zyrros Exposed [Long Post]    \n\n                                               thread_url   \n0       https://incels.is/threads/0-00005-femtoseconds...  \\\n1       https://incels.is/threads/0-posts-accounts-in-...   \n2       https://incels.is/threads/0-1-10-cthulhu-abomi...   \n3           https://incels.is/threads/0-following.199684/   \n4              https://incels.is/threads/0-alerts.173529/   \n...                                                   ...   \n132757  https://incels.is/threads/zyross-physical-domi...   \n132758  https://incels.is/threads/zyros-uses-faceapps-...   \n132759            https://incels.is/threads/zyros.102890/   \n132760      https://incels.is/threads/zyros.102890/page-2   \n132761  https://incels.is/threads/zyrros-exposed-long-...   \n\n       earliest_time_posted   latest_time_posted  posts  \n0       2022-06-02 04:02:35  2022-06-28 12:53:06      7  \n1       2020-08-27 12:43:44  2020-08-27 13:36:54      7  \n2       2022-05-28 16:54:30  2022-05-29 04:23:35      8  \n3       2020-04-29 01:25:12  2020-04-29 06:32:35     21  \n4       2020-01-24 10:37:36  2020-01-28 00:25:27     35  \n...                     ...                  ...    ...  \n132757  2019-03-02 15:31:26  2019-03-03 03:31:04     13  \n132758  2018-01-27 18:20:38  2018-02-03 14:18:07     50  \n132759  2019-01-22 13:04:24  2019-01-22 14:58:10     50  \n132760  2019-01-22 15:29:56  2019-01-24 10:48:24     12  \n132761  2017-11-30 23:20:28  2018-01-30 09:42:42     38  \n\n[132762 rows x 6 columns]",
      "text/html": "<div>\n<style scoped>\n    .dataframe tbody tr th:only-of-type {\n        vertical-align: middle;\n    }\n\n    .dataframe tbody tr th {\n        vertical-align: top;\n    }\n\n    .dataframe thead th {\n        text-align: right;\n    }\n</style>\n<table border=\"1\" class=\"dataframe\">\n  <thead>\n    <tr style=\"text-align: right;\">\n      <th></th>\n      <th>thread_id</th>\n      <th>thread_title</th>\n      <th>thread_url</th>\n      <th>earliest_time_posted</th>\n      <th>latest_time_posted</th>\n      <th>posts</th>\n    </tr>\n  </thead>\n  <tbody>\n    <tr>\n      <th>0</th>\n      <td>0</td>\n      <td>0.00005 femtoseconds without attention from Chad</td>\n      <td>https://incels.is/threads/0-00005-femtoseconds...</td>\n      <td>2022-06-02 04:02:35</td>\n      <td>2022-06-28 12:53:06</td>\n      <td>7</td>\n    </tr>\n    <tr>\n      <th>1</th>\n      <td>1</td>\n      <td>0 posts accounts in the bunker</td>\n      <td>https://incels.is/threads/0-posts-accounts-in-...</td>\n      <td>2020-08-27 12:43:44</td>\n      <td>2020-08-27 13:36:54</td>\n      <td>7</td>\n    </tr>\n    <tr>\n      <th>2</th>\n      <td>2</td>\n      <td>0,1/10 Cthulhu abomination of an escort I won'...</td>\n      <td>https://incels.is/threads/0-1-10-cthulhu-abomi...</td>\n      <td>2022-05-28 16:54:30</td>\n      <td>2022-05-29 04:23:35</td>\n      <td>8</td>\n    </tr>\n    <tr>\n      <th>3</th>\n      <td>3</td>\n      <td>0 following</td>\n      <td>https://incels.is/threads/0-following.199684/</td>\n      <td>2020-04-29 01:25:12</td>\n      <td>2020-04-29 06:32:35</td>\n      <td>21</td>\n    </tr>\n    <tr>\n      <th>4</th>\n      <td>4</td>\n      <td>0 alerts</td>\n      <td>https://incels.is/threads/0-alerts.173529/</td>\n      <td>2020-01-24 10:37:36</td>\n      <td>2020-01-28 00:25:27</td>\n      <td>35</td>\n    </tr>\n    <tr>\n      <th>...</th>\n      <td>...</td>\n      <td>...</td>\n      <td>...</td>\n      <td>...</td>\n      <td>...</td>\n      <td>...</td>\n    </tr>\n    <tr>\n      <th>132757</th>\n      <td>132757</td>\n      <td>Zyros's physical domination over other men</td>\n      <td>https://incels.is/threads/zyross-physical-domi...</td>\n      <td>2019-03-02 15:31:26</td>\n      <td>2019-03-03 03:31:04</td>\n      <td>13</td>\n    </tr>\n    <tr>\n      <th>132758</th>\n      <td>132758</td>\n      <td>Zyros uses FACEAPPS to fake his photos. Explan...</td>\n      <td>https://incels.is/threads/zyros-uses-faceapps-...</td>\n      <td>2018-01-27 18:20:38</td>\n      <td>2018-02-03 14:18:07</td>\n      <td>50</td>\n    </tr>\n    <tr>\n      <th>132759</th>\n      <td>132759</td>\n      <td>zyros</td>\n      <td>https://incels.is/threads/zyros.102890/</td>\n      <td>2019-01-22 13:04:24</td>\n      <td>2019-01-22 14:58:10</td>\n      <td>50</td>\n    </tr>\n    <tr>\n      <th>132760</th>\n      <td>132760</td>\n      <td>zyros</td>\n      <td>https://incels.is/threads/zyros.102890/page-2</td>\n      <td>2019-01-22 15:29:56</td>\n      <td>2019-01-24 10:48:24</td>\n      <td>12</td>\n    </tr>\n    <tr>\n      <th>132761</th>\n      <td>132761</td>\n      <td>Zyrros Exposed [Long Post]</td>\n      <td>https://incels.is/threads/zyrros-exposed-long-...</td>\n      <td>2017-11-30 23:20:28</td>\n      <td>2018-01-30 09:42:42</td>\n      <td>38</td>\n    </tr>\n  </tbody>\n</table>\n<p>132762 rows × 6 columns</p>\n</div>"
     },
     "execution_count": 5,
     "metadata": {},
     "output_type": "execute_result"
    }
   ],
   "source": [
    "i.incel_threads"
   ],
   "metadata": {
    "collapsed": false,
    "ExecuteTime": {
     "end_time": "2023-05-26T08:30:01.686886300Z",
     "start_time": "2023-05-26T08:30:01.672338900Z"
    }
   }
  },
  {
   "cell_type": "code",
   "execution_count": 6,
   "outputs": [
    {
     "data": {
      "text/plain": "         quoting_post_id  quoted_post_id   \n0                      5               4  \\\n1                      7               1   \n2                     10               0   \n3                     11              10   \n4                     12              11   \n...                  ...             ...   \n1054553          2265981         2265925   \n1054554          2265983         2265956   \n1054555          2265984         2265983   \n1054556          2265985         2265984   \n1054557          2265986         2265983   \n\n                                             quote_content  \n0        \nA man doing the same thing would have been su...  \n1        \nOr maybe she just realized Chad will never co...  \n2           \nWas set to pruning after 30 hours, fixed it.\n  \n3        \nWhats the deal with these greycels who do thi...  \n4                           \nThey are your dad's BBC bull\n  \n...                                                    ...  \n1054553  \ndogpill/height>face/agepill/darktriadpill/rac...  \n1054554  \nThey support low iq threads. Thats actually s...  \n1054555  \nWhat you guys aren't understanding is that lo...  \n1054556  \n\n\nRageAgainstTDL said:\n\n\n\nWhat you guys aren'...  \n1054557  \nWhat you guys aren't understanding is that lo...  \n\n[1054558 rows x 3 columns]",
      "text/html": "<div>\n<style scoped>\n    .dataframe tbody tr th:only-of-type {\n        vertical-align: middle;\n    }\n\n    .dataframe tbody tr th {\n        vertical-align: top;\n    }\n\n    .dataframe thead th {\n        text-align: right;\n    }\n</style>\n<table border=\"1\" class=\"dataframe\">\n  <thead>\n    <tr style=\"text-align: right;\">\n      <th></th>\n      <th>quoting_post_id</th>\n      <th>quoted_post_id</th>\n      <th>quote_content</th>\n    </tr>\n  </thead>\n  <tbody>\n    <tr>\n      <th>0</th>\n      <td>5</td>\n      <td>4</td>\n      <td>A man doing the same thing would have been su...</td>\n    </tr>\n    <tr>\n      <th>1</th>\n      <td>7</td>\n      <td>1</td>\n      <td>Or maybe she just realized Chad will never co...</td>\n    </tr>\n    <tr>\n      <th>2</th>\n      <td>10</td>\n      <td>0</td>\n      <td>Was set to pruning after 30 hours, fixed it.</td>\n    </tr>\n    <tr>\n      <th>3</th>\n      <td>11</td>\n      <td>10</td>\n      <td>Whats the deal with these greycels who do thi...</td>\n    </tr>\n    <tr>\n      <th>4</th>\n      <td>12</td>\n      <td>11</td>\n      <td>They are your dad's BBC bull</td>\n    </tr>\n    <tr>\n      <th>...</th>\n      <td>...</td>\n      <td>...</td>\n      <td>...</td>\n    </tr>\n    <tr>\n      <th>1054553</th>\n      <td>2265981</td>\n      <td>2265925</td>\n      <td>dogpill/height&gt;face/agepill/darktriadpill/rac...</td>\n    </tr>\n    <tr>\n      <th>1054554</th>\n      <td>2265983</td>\n      <td>2265956</td>\n      <td>They support low iq threads. Thats actually s...</td>\n    </tr>\n    <tr>\n      <th>1054555</th>\n      <td>2265984</td>\n      <td>2265983</td>\n      <td>What you guys aren't understanding is that lo...</td>\n    </tr>\n    <tr>\n      <th>1054556</th>\n      <td>2265985</td>\n      <td>2265984</td>\n      <td>RageAgainstTDL said:\n\n\n\nWhat you guys aren'...</td>\n    </tr>\n    <tr>\n      <th>1054557</th>\n      <td>2265986</td>\n      <td>2265983</td>\n      <td>What you guys aren't understanding is that lo...</td>\n    </tr>\n  </tbody>\n</table>\n<p>1054558 rows × 3 columns</p>\n</div>"
     },
     "execution_count": 6,
     "metadata": {},
     "output_type": "execute_result"
    }
   ],
   "source": [
    "i.incel_quotes"
   ],
   "metadata": {
    "collapsed": false,
    "ExecuteTime": {
     "end_time": "2023-05-26T08:30:28.550957Z",
     "start_time": "2023-05-26T08:30:28.416913600Z"
    }
   }
  },
  {
   "cell_type": "code",
   "execution_count": null,
   "outputs": [],
   "source": [],
   "metadata": {
    "collapsed": false
   }
  }
 ],
 "metadata": {
  "kernelspec": {
   "display_name": "Python 3",
   "language": "python",
   "name": "python3"
  },
  "language_info": {
   "codemirror_mode": {
    "name": "ipython",
    "version": 2
   },
   "file_extension": ".py",
   "mimetype": "text/x-python",
   "name": "python",
   "nbconvert_exporter": "python",
   "pygments_lexer": "ipython2",
   "version": "2.7.6"
  }
 },
 "nbformat": 4,
 "nbformat_minor": 0
}
